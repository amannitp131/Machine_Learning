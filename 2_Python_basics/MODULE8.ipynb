{
 "cells": [
  {
   "cell_type": "markdown",
   "id": "d290c1e6",
   "metadata": {},
   "source": [
    "# Strings and Characters in Python\n",
    "\n"
   ]
  },
  {
   "cell_type": "code",
   "execution_count": 1,
   "id": "6f026680",
   "metadata": {},
   "outputs": [
    {
     "name": "stdout",
     "output_type": "stream",
     "text": [
      "Hello World\n",
      "This is\n",
      "a multi-line\n",
      "string.\n"
     ]
    }
   ],
   "source": [
    "# Creating strings with single and double quotes\n",
    "str1 = 'Hello'\n",
    "str2 = \"World\"\n",
    "print(str1, str2)\n",
    "\n",
    "# Triple quotes for multi-line strings\n",
    "str3 = '''This is\n",
    "a multi-line\n",
    "string.'''\n",
    "print(str3)"
   ]
  },
  {
   "cell_type": "code",
   "execution_count": null,
   "id": "0787d868",
   "metadata": {},
   "outputs": [
    {
     "name": "stdout",
     "output_type": "stream",
     "text": [
      "P\n",
      "h\n"
     ]
    }
   ],
   "source": [
    "s = \"Python\"\n",
    "print(s[0])  # First character\n",
    "print(s[-3]) # Last third  character"
   ]
  },
  {
   "cell_type": "code",
   "execution_count": null,
   "id": "bc49f77f",
   "metadata": {},
   "outputs": [],
   "source": [
    "s = \"Hello World\"\n",
    "print(s[0:5]) \n",
    "print(s[6:])    \n",
    "print(s[:])     \n",
    "print(s[::-1])  "
   ]
  },
  {
   "cell_type": "code",
   "execution_count": 3,
   "id": "0adf01e4",
   "metadata": {},
   "outputs": [
    {
     "name": "stdout",
     "output_type": "stream",
     "text": [
      "4\n",
      "D\n",
      "a\n",
      "t\n",
      "a\n"
     ]
    }
   ],
   "source": [
    "s = \"Data\"\n",
    "print(len(s))  # Length of string\n",
    "\n",
    "# Loop through string\n",
    "for char in s:\n",
    "    print(char)"
   ]
  },
  {
   "cell_type": "code",
   "execution_count": 5,
   "id": "851b11c5",
   "metadata": {},
   "outputs": [
    {
     "name": "stdout",
     "output_type": "stream",
     "text": [
      "Strings cannot be changed directly.\n"
     ]
    }
   ],
   "source": [
    "s = \"sakshi\"\n",
    "# s[0] = 'i'  # This will throw an error\n",
    "print(\"Strings cannot be changed directly.\")"
   ]
  },
  {
   "cell_type": "code",
   "execution_count": 7,
   "id": "37826d72",
   "metadata": {},
   "outputs": [
    {
     "name": "stdout",
     "output_type": "stream",
     "text": [
      " SAKSHI KUAMARI \n",
      " sakshi kuamari \n",
      "sakshi kuamari\n",
      " sakshi kuamari \n",
      "['sakshi', 'kuamari']\n"
     ]
    }
   ],
   "source": [
    "s = \" sakshi kuamari \"\n",
    "print(s.upper())     # HELLO WORLD\n",
    "print(s.lower())     # hello world\n",
    "print(s.strip())     # remove surrounding spaces\n",
    "print(s.replace(\"kumar\", \"kumari\"))\n",
    "print(s.split())     # ['hello', 'world']"
   ]
  },
  {
   "cell_type": "code",
   "execution_count": 12,
   "id": "3ebacb02",
   "metadata": {},
   "outputs": [
    {
     "name": "stdout",
     "output_type": "stream",
     "text": [
      "True\n",
      "False\n",
      "False\n",
      "True\n",
      "False\n"
     ]
    }
   ],
   "source": [
    "s = \"sakshi     kumari is a cute girl\"\n",
    "print(\"cute\" in s)\n",
    "print(\" girl\" not in s)\n",
    "print(\"kumari\" not in s)\n",
    "print(\"sakshi cute\" not in s)\n",
    "print(\"sakshi     kumari is a cute\" not in s)\n"
   ]
  },
  {
   "cell_type": "code",
   "execution_count": null,
   "id": "b352adc5",
   "metadata": {},
   "outputs": [
    {
     "name": "stdout",
     "output_type": "stream",
     "text": [
      "Hi There\n",
      "HiHiHi\n"
     ]
    }
   ],
   "source": [
    "a = \"Hi\"\n",
    "b = \"There\"\n",
    "print(a + \" \" + b)\n",
    "print(a * 3) \n",
    "\n"
   ]
  },
  {
   "cell_type": "code",
   "execution_count": null,
   "id": "d76debb9",
   "metadata": {},
   "outputs": [],
   "source": [
    "name = \"Alice\"\n",
    "age = 30\n",
    "print(f\"My name is {name} and I am {age} years old.\")"
   ]
  },
  {
   "cell_type": "code",
   "execution_count": null,
   "id": "cd2bf89d",
   "metadata": {},
   "outputs": [
    {
     "name": "stdout",
     "output_type": "stream",
     "text": [
      "He said, \"Hello!\"\n",
      "Newline:\n",
      "Next line\n",
      "Tabbed:\tIndented\n"
     ]
    }
   ],
   "source": [
    "print(\"He said, \\\"Hello!\\\"\") \n",
    "print(\"Newline:\\nNext line\") \n",
    "print(\"Tabbed:\\tIndented\")"
   ]
  },
  {
   "cell_type": "code",
   "execution_count": 16,
   "id": "34a60524",
   "metadata": {},
   "outputs": [
    {
     "name": "stdout",
     "output_type": "stream",
     "text": [
      "i love u\n"
     ]
    }
   ],
   "source": [
    "\n",
    "print(chr(105)+\" \"+chr(108)+chr(111)+chr(118)+chr(101)+\" \"+chr(117))    \n",
    "\n",
    "# 65-90 A-Z\n",
    "# 97-122 a-z\n",
    "# 48-57 0-9\n"
   ]
  },
  {
   "cell_type": "code",
   "execution_count": null,
   "id": "2ff51476",
   "metadata": {},
   "outputs": [],
   "source": [
    "print(\"apple\" == \"apple\")\n",
    "print(\"apple\" < \"banana\")\n",
    "print(\"Apple\" < \"apple\")  # Case-sensitive"
   ]
  },
  {
   "cell_type": "code",
   "execution_count": null,
   "id": "cfa397d5",
   "metadata": {},
   "outputs": [],
   "source": [
    "s = \"madam\"\n",
    "print(s == s[::-1])"
   ]
  },
  {
   "cell_type": "markdown",
   "id": "9b0c054b",
   "metadata": {},
   "source": [
    "## Summary\n",
    "\n",
    "- Strings are immutable sequences of characters.\n",
    "- You can access them using indexing and slicing.\n",
    "- Python provides powerful string methods like `.upper()`, `.lower()`, `.strip()`, `.replace()`, `.split()`.\n",
    "- Use `ord()` and `chr()` for ASCII conversions.\n",
    "- f-strings are the modern way to format strings.\n",
    "\n",
    "Practice these concepts to get fluent with strings!"
   ]
  }
 ],
 "metadata": {
  "kernelspec": {
   "display_name": "base",
   "language": "python",
   "name": "python3"
  },
  "language_info": {
   "codemirror_mode": {
    "name": "ipython",
    "version": 3
   },
   "file_extension": ".py",
   "mimetype": "text/x-python",
   "name": "python",
   "nbconvert_exporter": "python",
   "pygments_lexer": "ipython3",
   "version": "3.12.8"
  }
 },
 "nbformat": 4,
 "nbformat_minor": 5
}
