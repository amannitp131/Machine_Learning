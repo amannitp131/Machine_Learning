{
 "cells": [
  {
   "cell_type": "markdown",
   "id": "64e2fa53",
   "metadata": {},
   "source": [
    "## Print statement"
   ]
  },
  {
   "cell_type": "code",
   "execution_count": 1,
   "id": "b51ade0c-d3e3-453c-96a7-62c48a2e91e0",
   "metadata": {},
   "outputs": [
    {
     "name": "stdout",
     "output_type": "stream",
     "text": [
      "Hello, World!\n",
      "123\n",
      "12.34\n",
      "True\n",
      "Hello World\n",
      "Sum of 2 and 3 is 5\n",
      "Line1\n",
      "Line2\n",
      "AB***C-D-E\n"
     ]
    }
   ],
   "source": [
    "print('Hello, World!')                # prints a string\n",
    "print(123)                            # prints an integer\n",
    "print(12.34)                          # prints a float\n",
    "print(True)                           # prints a boolean\n",
    "print(\"Hello\", \"World\")               # prints multiple values separated by space\n",
    "print(\"Sum of 2 and 3 is\", 2+3)       # prints string and expression result\n",
    "print(\"Line1\\nLine2\")                 # prints with newline character\n",
    "print(\"A\", end='')                    # prints without newline at the end\n",
    "print(\"B\", end='***')                 # custom end character\n",
    "print(\"C\", \"D\",\"E\", sep='-')              # custom separator between values"
   ]
  },
  {
   "cell_type": "markdown",
   "id": "0dde77f1",
   "metadata": {},
   "source": [
    "## comments"
   ]
  },
  {
   "cell_type": "code",
   "execution_count": null,
   "id": "9f7e7025-4597-43eb-853e-611e6966114c",
   "metadata": {},
   "outputs": [
    {
     "name": "stdout",
     "output_type": "stream",
     "text": [
      "hello\n"
     ]
    }
   ],
   "source": [
    "# Comments\n",
    "\n",
    "# sakshi is beautiful\n",
    "\n",
    "'''\n",
    "sakshi is \n",
    "so beautiful\n",
    "'''\n",
    "# sakshi is \n",
    "# so beautiful\n",
    "\n",
    "# Comments in Python are used to explain code and make it more readable.\n",
    "# Single-line comments start with the '#' symbol.\n",
    "# Multi-line comments can be written using triple quotes (''' or \"\"\").\n",
    "# Comments are ignored by the Python interpreter/compiler and do not affect the execution of the program."
   ]
  },
  {
   "cell_type": "code",
   "execution_count": 4,
   "id": "93589b8e-5394-4274-b8b3-0ac546a99d68",
   "metadata": {},
   "outputs": [
    {
     "name": "stdout",
     "output_type": "stream",
     "text": [
      "hello\n",
      "hello\n"
     ]
    }
   ],
   "source": [
    "print(\"hello\")\n",
    "print(\"hello\")"
   ]
  },
  {
   "cell_type": "markdown",
   "id": "38e0083f-b40b-4b29-a191-2b083691f88e",
   "metadata": {},
   "source": [
    "## Basic hello world\n",
    " Here we will do all basic"
   ]
  },
  {
   "cell_type": "markdown",
   "id": "d9f7dc34-ace6-4a30-8437-d8a4fd4fa84c",
   "metadata": {},
   "source": [
    " a=10\n",
    "print(a)"
   ]
  },
  {
   "cell_type": "markdown",
   "id": "a6c30381-b444-44db-baff-289b580f925d",
   "metadata": {},
   "source": [
    "# Variables"
   ]
  },
  {
   "cell_type": "code",
   "execution_count": null,
   "id": "762dde48-3562-40b1-95a9-c2758e2c8eff",
   "metadata": {},
   "outputs": [
    {
     "name": "stdout",
     "output_type": "stream",
     "text": [
      "35\n"
     ]
    }
   ],
   "source": [
    "a=12\n",
    "b=23\n",
    "sum=a+b\n",
    "print(sum)\n",
    "\n",
    "# Features of variables in Python:\n",
    "# 1. Variables are dynamically typed: You don't need to declare the data type, Python infers it.\n",
    "# 2. Variable names are case-sensitive: 'a' and 'A' are different.\n",
    "# 3. Variable names can contain letters, digits, and underscores, but cannot start with a digit.\n",
    "# 4. Variables can be reassigned to different types during execution.\n",
    "# 5. Variables are references to objects in memory.\n",
    "# 6. Reserved keywords cannot be used as variable names.\n"
   ]
  },
  {
   "cell_type": "markdown",
   "id": "27be08d2-eeb8-471d-bd8b-e484e8613939",
   "metadata": {},
   "source": [
    "# Datatype"
   ]
  },
  {
   "cell_type": "markdown",
   "id": "c3a03446",
   "metadata": {},
   "source": [
    "## Python Datatypes\n",
    "\n",
    "Python has several built-in datatypes that are used to store different kinds of values. Some of the most common datatypes are:\n",
    "\n",
    "- **int**: Integer numbers (e.g., 5, -10, 0)\n",
    "- **float**: Floating-point numbers (e.g., 3.14, -2.0)\n",
    "- **complex**: Complex numbers (e.g., 2+3j)\n",
    "- **str**: String (sequence of characters, e.g., \"hello\")\n",
    "- **bool**: Boolean values (True or False)\n",
    "- **list**: Ordered, mutable collection of items (e.g., [1, 2, 3])\n",
    "- **tuple**: Ordered, immutable collection of items (e.g., (1, 2, 3))\n",
    "- **set**: Unordered collection of unique items (e.g., {1, 2, 3})\n",
    "- **dict**: Collection of key-value pairs (e.g., {'a': 1, 'b': 2})\n",
    "\n",
    "You can check the datatype of a variable using the `type()` function."
   ]
  },
  {
   "cell_type": "code",
   "execution_count": 13,
   "id": "46784be9-87a5-4ac6-9bb5-e0833137bdfb",
   "metadata": {},
   "outputs": [
    {
     "name": "stdout",
     "output_type": "stream",
     "text": [
      "<class 'int'>\n",
      "10\n",
      "<class 'float'>\n",
      "20.7\n",
      "<class 'str'>\n",
      "aman\n",
      "<class 'str'>\n",
      "s\n",
      "<class 'bool'>\n",
      "True\n"
     ]
    }
   ],
   "source": [
    "a=10\n",
    "print(type(a))\n",
    "print(a)\n",
    "a=20.7\n",
    "print(type(a))\n",
    "print(a)\n",
    "a=\"aman\"\n",
    "print(type(a))\n",
    "print(a)\n",
    "a='s'\n",
    "print(type(a))\n",
    "print(a)\n",
    "a=True\n",
    "print(type(a))\n",
    "print(a)\n"
   ]
  },
  {
   "cell_type": "code",
   "execution_count": 11,
   "id": "e830a599-974d-4651-8ced-5ffe04f2abee",
   "metadata": {},
   "outputs": [
    {
     "name": "stdout",
     "output_type": "stream",
     "text": [
      "13\n",
      "<class 'int'>\n",
      "13.3\n",
      "<class 'float'>\n",
      "(3+5j)\n",
      "<class 'complex'>\n"
     ]
    }
   ],
   "source": [
    "a=13\n",
    "b=13.3\n",
    "c=3+5j\n",
    "print(a)\n",
    "print(type(a))\n",
    "print(b)\n",
    "print(type(b))\n",
    "print(c)\n",
    "print(type(c))"
   ]
  },
  {
   "cell_type": "code",
   "execution_count": null,
   "id": "64a61ead-ac71-478f-911b-6cdb06c4bf41",
   "metadata": {},
   "outputs": [
    {
     "name": "stdout",
     "output_type": "stream",
     "text": [
      "140733117180632\n"
     ]
    }
   ],
   "source": [
    "a=10\n",
    "print(id(a))\n",
    "\n",
    "# The id() function returns the unique identifier (memory address) of an object.\n",
    "# It helps to know where the object is stored in memory.\n"
   ]
  },
  {
   "cell_type": "markdown",
   "id": "778cefe0-f0c0-45ee-b955-19a8a442b800",
   "metadata": {},
   "source": [
    "# Airthmetic operation"
   ]
  },
  {
   "cell_type": "markdown",
   "id": "2a95c572",
   "metadata": {},
   "source": [
    "# Arithmetic Operators in Python\n",
    "\n",
    "Arithmetic operators are used to perform mathematical operations between numeric values. The common arithmetic operators in Python are:\n",
    "\n",
    "- **Addition (`+`)**: Adds two numbers.  \n",
    "    Example: `a + b`\n",
    "\n",
    "- **Subtraction (`-`)**: Subtracts the right operand from the left operand.  \n",
    "    Example: `a - b`\n",
    "\n",
    "- **Multiplication (`*`)**: Multiplies two numbers.  \n",
    "    Example: `a * b`\n",
    "\n",
    "- **Division (`/`)**: Divides the left operand by the right operand (returns a float).  \n",
    "    Example: `a / b`\n",
    "\n",
    "- **Floor Division (`//`)**: Divides and returns the integer part of the result.  \n",
    "    Example: `a // b`\n",
    "\n",
    "- **Modulus (`%`)**: Returns the remainder of the division.  \n",
    "    Example: `a % b`\n",
    "\n",
    "- **Exponentiation (`**`)**: Raises the left operand to the power of the right operand.  \n",
    "    Example: `a ** b`\n",
    "\n",
    "These operators can be used with variables and values to perform calculations in Python."
   ]
  },
  {
   "cell_type": "code",
   "execution_count": 19,
   "id": "87674ad6-be99-4007-b988-3fd027b5d421",
   "metadata": {},
   "outputs": [
    {
     "data": {
      "text/plain": [
       "6"
      ]
     },
     "execution_count": 19,
     "metadata": {},
     "output_type": "execute_result"
    }
   ],
   "source": [
    "26//4"
   ]
  },
  {
   "cell_type": "code",
   "execution_count": 18,
   "id": "50c1c833-6e04-4271-b6e7-e89540b4236f",
   "metadata": {},
   "outputs": [
    {
     "name": "stdout",
     "output_type": "stream",
     "text": [
      "4.8\n",
      "4\n"
     ]
    }
   ],
   "source": [
    "print(24/5) # floating point division\n",
    "print(24//5) # integer division"
   ]
  },
  {
   "cell_type": "code",
   "execution_count": 20,
   "id": "30fc7a27-d702-498d-be9d-291b69f80737",
   "metadata": {},
   "outputs": [
    {
     "name": "stdout",
     "output_type": "stream",
     "text": [
      "18\n",
      "32\n",
      "1\n"
     ]
    }
   ],
   "source": [
    "print(2*9)\n",
    "print(2**5)\n",
    "print(7%3)"
   ]
  },
  {
   "cell_type": "code",
   "execution_count": 22,
   "id": "3bb04030-6e94-4774-9a04-1281921b389a",
   "metadata": {},
   "outputs": [
    {
     "name": "stdout",
     "output_type": "stream",
     "text": [
      "22.333333333333332\n",
      "22\n"
     ]
    }
   ],
   "source": [
    "#average of 3 number\n",
    "a=12\n",
    "b=23\n",
    "c=32\n",
    "print((a+b+c)/3)\n",
    "print((a+b+c)//3)"
   ]
  },
  {
   "cell_type": "markdown",
   "id": "2765bf47-ed90-483a-9328-0d0e65e9958b",
   "metadata": {},
   "source": [
    "# input from user"
   ]
  },
  {
   "cell_type": "markdown",
   "id": "e46af820",
   "metadata": {},
   "source": [
    "## The `input()` Function in Python\n",
    "\n",
    "The `input()` function is used to take input from the user as a string.\n",
    "\n",
    "**Features of `input()`:**\n",
    "1. Always returns data as a string. You need to convert it to `int` or `float` if required.\n",
    "2. You can provide a prompt message inside `input()`, which will be displayed to the user.\n",
    "3. Useful for interactive programs where user input is needed.\n",
    "\n",
    "**Example usage:**"
   ]
  },
  {
   "cell_type": "code",
   "execution_count": 3,
   "id": "7e08360e-b800-48ed-a249-909d98300190",
   "metadata": {},
   "outputs": [
    {
     "name": "stdout",
     "output_type": "stream",
     "text": [
      "Hello, \n"
     ]
    },
    {
     "ename": "ValueError",
     "evalue": "invalid literal for int() with base 10: ''",
     "output_type": "error",
     "traceback": [
      "\u001b[1;31m---------------------------------------------------------------------------\u001b[0m",
      "\u001b[1;31mValueError\u001b[0m                                Traceback (most recent call last)",
      "Cell \u001b[1;32mIn[3], line 6\u001b[0m\n\u001b[0;32m      3\u001b[0m \u001b[38;5;28mprint\u001b[39m(\u001b[38;5;124m\"\u001b[39m\u001b[38;5;124mHello,\u001b[39m\u001b[38;5;124m\"\u001b[39m, name)\n\u001b[0;32m      5\u001b[0m \u001b[38;5;66;03m# Example 2: Taking integer input\u001b[39;00m\n\u001b[1;32m----> 6\u001b[0m age \u001b[38;5;241m=\u001b[39m \u001b[38;5;28mint\u001b[39m(\u001b[38;5;28minput\u001b[39m(\u001b[38;5;124m\"\u001b[39m\u001b[38;5;124mEnter your age: \u001b[39m\u001b[38;5;124m\"\u001b[39m))\n\u001b[0;32m      7\u001b[0m \u001b[38;5;28mprint\u001b[39m(\u001b[38;5;124m\"\u001b[39m\u001b[38;5;124mYou are\u001b[39m\u001b[38;5;124m\"\u001b[39m, age, \u001b[38;5;124m\"\u001b[39m\u001b[38;5;124myears old.\u001b[39m\u001b[38;5;124m\"\u001b[39m)\n\u001b[0;32m      9\u001b[0m \u001b[38;5;66;03m# Example 3: Taking float input\u001b[39;00m\n",
      "\u001b[1;31mValueError\u001b[0m: invalid literal for int() with base 10: ''"
     ]
    }
   ],
   "source": [
    "# Example 1: Taking string input\n",
    "name = input(\"Enter your name: \")\n",
    "print(\"Hello,\", name)\n",
    "\n",
    "# Example 2: Taking integer input\n",
    "age = int(input(\"Enter your age: \"))\n",
    "print(\"You are\", age, \"years old.\")\n",
    "\n",
    "# Example 3: Taking float input\n",
    "height = float(input(\"Enter your height in meters: \"))\n",
    "print(\"Your height is\", height, \"meters.\")\n",
    "\n",
    "# Example 4: Taking multiple inputs in one line (space-separated)\n",
    "x, y = input(\"Enter two numbers separated by space: \").split()\n",
    "print(\"First number:\", x)\n",
    "print(\"Second number:\", y)\n",
    "\n",
    "# Example 5: Taking multiple integer inputs in one line\n",
    "a, b, c = map(int, input(\"Enter three integers separated by space: \").split())\n",
    "print(\"Sum:\", a + b + c)\n"
   ]
  }
 ],
 "metadata": {
  "kernelspec": {
   "display_name": "base",
   "language": "python",
   "name": "python3"
  },
  "language_info": {
   "codemirror_mode": {
    "name": "ipython",
    "version": 3
   },
   "file_extension": ".py",
   "mimetype": "text/x-python",
   "name": "python",
   "nbconvert_exporter": "python",
   "pygments_lexer": "ipython3",
   "version": "3.12.8"
  }
 },
 "nbformat": 4,
 "nbformat_minor": 5
}
