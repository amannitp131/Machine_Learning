{
 "cells": [
  {
   "cell_type": "code",
   "execution_count": null,
   "id": "2cbf471b",
   "metadata": {},
   "outputs": [],
   "source": [
    "def sum(a,b): \n",
    "    print(a+b)"
   ]
  },
  {
   "cell_type": "code",
   "execution_count": 5,
   "id": "21fe88e5",
   "metadata": {},
   "outputs": [],
   "source": [
    "def print_hello():\n",
    "    print(\"hello\")"
   ]
  },
  {
   "cell_type": "code",
   "execution_count": 7,
   "id": "09fe86ff",
   "metadata": {},
   "outputs": [
    {
     "name": "stdout",
     "output_type": "stream",
     "text": [
      "hello\n",
      "16\n"
     ]
    }
   ],
   "source": [
    "print_hello()\n",
    "sum(7,9)"
   ]
  },
  {
   "cell_type": "code",
   "execution_count": 12,
   "id": "d60eef6a",
   "metadata": {},
   "outputs": [],
   "source": [
    "def add(a,b):\n",
    "    return a+b"
   ]
  },
  {
   "cell_type": "code",
   "execution_count": 17,
   "id": "aaf2c060",
   "metadata": {},
   "outputs": [
    {
     "name": "stdout",
     "output_type": "stream",
     "text": [
      "16\n",
      "None\n"
     ]
    }
   ],
   "source": [
    "k=sum(7,9)\n",
    "print(k)\n"
   ]
  },
  {
   "cell_type": "code",
   "execution_count": 18,
   "id": "d65af095",
   "metadata": {},
   "outputs": [
    {
     "name": "stdout",
     "output_type": "stream",
     "text": [
      "16\n"
     ]
    }
   ],
   "source": [
    "k=add(7,9)\n",
    "print(k)"
   ]
  }
 ],
 "metadata": {
  "kernelspec": {
   "display_name": "base",
   "language": "python",
   "name": "python3"
  },
  "language_info": {
   "codemirror_mode": {
    "name": "ipython",
    "version": 3
   },
   "file_extension": ".py",
   "mimetype": "text/x-python",
   "name": "python",
   "nbconvert_exporter": "python",
   "pygments_lexer": "ipython3",
   "version": "3.12.8"
  }
 },
 "nbformat": 4,
 "nbformat_minor": 5
}
