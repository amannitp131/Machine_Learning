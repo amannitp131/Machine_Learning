{
 "cells": [
  {
   "cell_type": "code",
   "execution_count": 6,
   "metadata": {},
   "outputs": [
    {
     "name": "stdout",
     "output_type": "stream",
     "text": [
      "math.ceil: 4\n",
      "math.floor: 3\n",
      "math.fabs: 3.7\n",
      "math.factorial: 6\n",
      "math.exp: 40.4473043600674\n",
      "math.log: 1.308332819650179\n",
      "math.log10: 0.568201724066995\n",
      "math.sqrt: 1.9235384061671346\n",
      "math.pow: 13.690000000000001\n",
      "math.sin: -0.5298361409084934\n",
      "math.cos: -0.848100031710408\n",
      "math.tan: 0.6247330752245639\n",
      "math.degrees: 211.99438419840462\n",
      "math.radians: 0.0645771823237902\n",
      "math.trunc: 3\n"
     ]
    }
   ],
   "source": [
    "import math\n",
    "number = 3.7\n",
    "\n",
    "print(\"math.ceil:\", math.ceil(number))       # Returns the smallest integer ≥ number (rounds up)\n",
    "print(\"math.floor:\", math.floor(number))     # Returns the largest integer ≤ number (rounds down)\n",
    "print(\"math.fabs:\", math.fabs(number))       # Returns the absolute value of the number\n",
    "print(\"math.factorial:\", math.factorial(int(number)))  # Returns factorial of the integer part (int(3.7) = 3 → 3! = 6)\n",
    "print(\"math.exp:\", math.exp(number))         # Returns e raised to the power of number (e^number)\n",
    "print(\"math.log:\", math.log(number))         # Returns natural logarithm (base e) of number\n",
    "print(\"math.log10:\", math.log10(number))     # Returns base-10 logarithm of number\n",
    "print(\"math.sqrt:\", math.sqrt(number))       # Returns the square root of number\n",
    "print(\"math.pow:\", math.pow(number, 2))      # Returns number raised to the power 2 (number^2)\n",
    "print(\"math.sin:\", math.sin(number))         # Returns sine of number (in radians)\n",
    "print(\"math.cos:\", math.cos(number))         # Returns cosine of number (in radians)\n",
    "print(\"math.tan:\", math.tan(number))         # Returns tangent of number (in radians)\n",
    "print(\"math.degrees:\", math.degrees(number)) # Converts radians to degrees\n",
    "print(\"math.radians:\", math.radians(number)) # Converts degrees to radians\n",
    "print(\"math.trunc:\", math.trunc(number))     # Truncates the decimal part, returns the integer part (like int())\n"
   ]
  },
  {
   "cell_type": "code",
   "execution_count": null,
   "metadata": {},
   "outputs": [
    {
     "name": "stdout",
     "output_type": "stream",
     "text": [
      "4.0\n"
     ]
    }
   ],
   "source": [
    "# Normal import example\n",
    "\n",
    "import math\n",
    "\n",
    "print(math.sqrt(16))  \n"
   ]
  },
  {
   "cell_type": "code",
   "execution_count": null,
   "metadata": {},
   "outputs": [
    {
     "name": "stdout",
     "output_type": "stream",
     "text": [
      "4.0\n"
     ]
    }
   ],
   "source": [
    "# import with Alias\n",
    "\n",
    "import math as mt\n",
    "\n",
    "print(mt.sqrt(16)) "
   ]
  },
  {
   "cell_type": "code",
   "execution_count": 9,
   "metadata": {},
   "outputs": [
    {
     "name": "stdout",
     "output_type": "stream",
     "text": [
      "4.0\n"
     ]
    }
   ],
   "source": [
    "# Import Specific Function\n",
    "from math import sqrt\n",
    "\n",
    "print(sqrt(16))  "
   ]
  }
 ],
 "metadata": {
  "kernelspec": {
   "display_name": "base",
   "language": "python",
   "name": "python3"
  },
  "language_info": {
   "codemirror_mode": {
    "name": "ipython",
    "version": 3
   },
   "file_extension": ".py",
   "mimetype": "text/x-python",
   "name": "python",
   "nbconvert_exporter": "python",
   "pygments_lexer": "ipython3",
   "version": "3.12.8"
  }
 },
 "nbformat": 4,
 "nbformat_minor": 2
}
