{
 "cells": [
  {
   "cell_type": "markdown",
   "id": "78213521-b292-43a7-9855-755a89ebb413",
   "metadata": {},
   "source": [
    "# Boolean datatype\n"
   ]
  },
  {
   "cell_type": "code",
   "execution_count": null,
   "id": "8e8be254-b9f4-426a-84ea-91e7cc49514d",
   "metadata": {},
   "outputs": [
    {
     "data": {
      "text/plain": [
       "bool"
      ]
     },
     "execution_count": 1,
     "metadata": {},
     "output_type": "execute_result"
    }
   ],
   "source": [
    "a= True\n",
    "b= False\n",
    "type(a)\n",
    "\n"
   ]
  },
  {
   "cell_type": "markdown",
   "id": "0bf53017-c3a9-42eb-8ec3-604c277f16bd",
   "metadata": {},
   "source": [
    "# Relational operator"
   ]
  },
  {
   "cell_type": "code",
   "execution_count": 3,
   "id": "70c0d32d-d09a-4a30-8775-0f31427e6b2e",
   "metadata": {},
   "outputs": [
    {
     "name": "stdout",
     "output_type": "stream",
     "text": [
      "False\n",
      "True\n",
      "False\n",
      "True\n",
      "False\n",
      "True\n"
     ]
    }
   ],
   "source": [
    "x=10\n",
    "y=20\n",
    "print(x>y)\n",
    "print(x<y)\n",
    "print(x>=y)\n",
    "print(x<=y)\n",
    "print(x==y)\n",
    "print(x!=y)\n"
   ]
  },
  {
   "cell_type": "markdown",
   "id": "c5d4b98d-205a-48f6-9c22-6956eeb43845",
   "metadata": {},
   "source": [
    "# Logical operator"
   ]
  },
  {
   "cell_type": "code",
   "execution_count": null,
   "id": "8e76355c-93fb-4806-9af3-04e3c61f0783",
   "metadata": {},
   "outputs": [
    {
     "name": "stdout",
     "output_type": "stream",
     "text": [
      "True\n",
      "True\n",
      "False\n"
     ]
    }
   ],
   "source": [
    "x=67\n",
    "y=65\n",
    "print((x>y) and (x<y) or (x>y)  and (not(x==y)))\n",
    "print((x>y) or (x<y))\n",
    "print(not(x>y))"
   ]
  },
  {
   "cell_type": "code",
   "execution_count": null,
   "id": "cd8753b2",
   "metadata": {},
   "outputs": [
    {
     "data": {
      "text/plain": [
       "14"
      ]
     },
     "execution_count": 8,
     "metadata": {},
     "output_type": "execute_result"
    }
   ],
   "source": [
    "2 / 3 * 4"
   ]
  },
  {
   "cell_type": "code",
   "execution_count": 16,
   "id": "9efcd5c7",
   "metadata": {},
   "outputs": [
    {
     "data": {
      "text/plain": [
       "1"
      ]
     },
     "execution_count": 16,
     "metadata": {},
     "output_type": "execute_result"
    }
   ],
   "source": [
    "1**2**3\n"
   ]
  },
  {
   "cell_type": "code",
   "execution_count": 17,
   "id": "43df7003",
   "metadata": {},
   "outputs": [
    {
     "data": {
      "text/plain": [
       "4.0"
      ]
     },
     "execution_count": 17,
     "metadata": {},
     "output_type": "execute_result"
    }
   ],
   "source": [
    "2/2*4"
   ]
  },
  {
   "cell_type": "markdown",
   "id": "e36c0d23-0325-45a9-8c92-1d707dc2b881",
   "metadata": {},
   "source": [
    "# if  else"
   ]
  },
  {
   "cell_type": "code",
   "execution_count": null,
   "id": "145d508e",
   "metadata": {},
   "outputs": [],
   "source": [
    "# if(condtion):\n",
    "#     # code\n",
    "# else:\n",
    "#     # code"
   ]
  },
  {
   "cell_type": "code",
   "execution_count": 18,
   "id": "f90fc594",
   "metadata": {},
   "outputs": [
    {
     "name": "stdout",
     "output_type": "stream",
     "text": [
      "2\n",
      "2\n",
      "3\n"
     ]
    }
   ],
   "source": [
    "if(3<5):\n",
    "    print(2)\n",
    "elif(3<5):\n",
    "    print(3)\n",
    "else:\n",
    "    print(4)\n",
    "\n",
    "\n",
    "if(3<5):\n",
    "    print(2)\n",
    "if(3<5):\n",
    "    print(3)\n",
    "else:\n",
    "    print(4)"
   ]
  },
  {
   "cell_type": "code",
   "execution_count": 9,
   "id": "b94dd6ee-52aa-48b5-8ac6-b7737583fe33",
   "metadata": {},
   "outputs": [
    {
     "name": "stdout",
     "output_type": "stream",
     "text": [
      " 23\n"
     ]
    },
    {
     "name": "stdout",
     "output_type": "stream",
     "text": [
      "odd number\n"
     ]
    }
   ],
   "source": [
    "n=int(input())\n",
    "if(n%2==0):\n",
    "    print(\"even number\")\n",
    "else :\n",
    "    print(\"odd number\")"
   ]
  },
  {
   "cell_type": "code",
   "execution_count": 10,
   "id": "c131797c-413e-4565-8128-ebd8f59bf1eb",
   "metadata": {},
   "outputs": [
    {
     "name": "stdout",
     "output_type": "stream",
     "text": [
      " 23\n",
      " 56\n",
      " 12\n"
     ]
    },
    {
     "name": "stdout",
     "output_type": "stream",
     "text": [
      "56\n"
     ]
    }
   ],
   "source": [
    "a=int(input())\n",
    "b=int(input())\n",
    "c=int(input())\n",
    "\n",
    "if a>=b and a>=c :\n",
    "    print(a)\n",
    "if b>a and b>=c :\n",
    "    print(b)\n",
    "else :\n",
    "    print(c)"
   ]
  },
  {
   "cell_type": "code",
   "execution_count": 12,
   "id": "6accc5dd-b3c7-4cf1-bdb6-76cb4c61b16a",
   "metadata": {},
   "outputs": [
    {
     "name": "stdout",
     "output_type": "stream",
     "text": [
      " 2\n"
     ]
    },
    {
     "name": "stdout",
     "output_type": "stream",
     "text": [
      "even number\n",
      "2 is my favourite number\n"
     ]
    }
   ],
   "source": [
    "n = int(input())\n",
    "if n % 2 == 0:\n",
    "    print(\"even number\")\n",
    "    if n == 0 or n == 2:\n",
    "        print(f\"{n} is my favourite number\")\n",
    "else:\n",
    "    print(\"odd number\")\n"
   ]
  },
  {
   "cell_type": "markdown",
   "id": "6950c930-7a9b-416b-a98d-1b46be449068",
   "metadata": {},
   "source": [
    "# Loop\n"
   ]
  },
  {
   "cell_type": "code",
   "execution_count": 3,
   "id": "7be2b478",
   "metadata": {},
   "outputs": [
    {
     "name": "stdout",
     "output_type": "stream",
     "text": [
      "by while loop\n",
      "0\n",
      "1\n",
      "2\n",
      "3\n",
      "by for loop\n",
      "0\n",
      "1\n",
      "2\n",
      "3\n",
      "4\n"
     ]
    }
   ],
   "source": [
    "print(\"by while loop\")\n",
    "x = 0\n",
    "while x < 4:\n",
    "    print(x)\n",
    "    x += 1\n",
    "\n",
    "print(\"by for loop\")\n",
    "for x in range(0, 5):\n",
    "    print(x)\n",
    "\n",
    "\n",
    "\n",
    "    "
   ]
  },
  {
   "cell_type": "code",
   "execution_count": 20,
   "id": "3cbb2aaa-ef0b-4789-a078-eafa0d969c47",
   "metadata": {},
   "outputs": [
    {
     "name": "stdout",
     "output_type": "stream",
     "text": [
      "3\n",
      "2\n",
      "1\n"
     ]
    }
   ],
   "source": [
    "p = int(input())\n",
    "while p>0 :\n",
    "    print(p)\n",
    "    p=p-1"
   ]
  },
  {
   "cell_type": "code",
   "execution_count": 22,
   "id": "d3486f5f-5688-441f-a1d8-3b1743e99713",
   "metadata": {},
   "outputs": [
    {
     "name": "stdout",
     "output_type": "stream",
     "text": [
      "Enter a number:  4\n"
     ]
    },
    {
     "name": "stdout",
     "output_type": "stream",
     "text": [
      "4 is not a prime number\n"
     ]
    }
   ],
   "source": [
    "# prime number\n",
    "import math\n",
    "\n",
    "q = int(input(\"Enter a number: \"))\n",
    "\n",
    "if q <= 1:\n",
    "    print(f\"{q} is not a prime number\")\n",
    "elif q == 2:\n",
    "    print(f\"{q} is a prime number\")\n",
    "else:\n",
    "    is_prime = True\n",
    "    for i in range(2, int(math.sqrt(q)) + 1):\n",
    "        if q % i == 0:\n",
    "            is_prime = False\n",
    "            break\n",
    "    if is_prime:\n",
    "        print(f\"{q} is a prime number\")\n",
    "    else:\n",
    "        print(f\"{q} is not a prime number\")\n"
   ]
  },
  {
   "cell_type": "code",
   "execution_count": 30,
   "id": "e565d12a",
   "metadata": {},
   "outputs": [
    {
     "name": "stdout",
     "output_type": "stream",
     "text": [
      "0\n",
      "1\n",
      "4\n",
      "9\n"
     ]
    }
   ],
   "source": [
    "for i in range(0,4):\n",
    "    print(i*i)"
   ]
  },
  {
   "cell_type": "code",
   "execution_count": 34,
   "id": "fec06288",
   "metadata": {},
   "outputs": [
    {
     "name": "stdout",
     "output_type": "stream",
     "text": [
      "2\n",
      "5\n"
     ]
    }
   ],
   "source": [
    "for i in range(0,4,3):\n",
    "    print(i+2)"
   ]
  },
  {
   "cell_type": "code",
   "execution_count": 37,
   "id": "fd1c132c",
   "metadata": {},
   "outputs": [
    {
     "name": "stdout",
     "output_type": "stream",
     "text": [
      "5\n"
     ]
    }
   ],
   "source": [
    "for i in range(2,12,3):\n",
    "    if(i==5 or i==8):\n",
    "        print(i)\n",
    "        break\n",
    "    "
   ]
  },
  {
   "cell_type": "code",
   "execution_count": 38,
   "id": "6a5a9379",
   "metadata": {},
   "outputs": [
    {
     "name": "stdout",
     "output_type": "stream",
     "text": [
      "5\n",
      "8\n"
     ]
    }
   ],
   "source": [
    "for i in range(2,12,3):\n",
    "    if(i==5 or i==8):\n",
    "        print(i)\n",
    "        continue\n",
    "    "
   ]
  }
 ],
 "metadata": {
  "kernelspec": {
   "display_name": "base",
   "language": "python",
   "name": "python3"
  },
  "language_info": {
   "codemirror_mode": {
    "name": "ipython",
    "version": 3
   },
   "file_extension": ".py",
   "mimetype": "text/x-python",
   "name": "python",
   "nbconvert_exporter": "python",
   "pygments_lexer": "ipython3",
   "version": "3.12.8"
  }
 },
 "nbformat": 4,
 "nbformat_minor": 5
}
