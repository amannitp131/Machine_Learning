{
 "cells": [
  {
   "cell_type": "markdown",
   "id": "2f3b35de-3d93-4d92-a4aa-c0cec27065cd",
   "metadata": {},
   "source": [
    "# Python\n"
   ]
  },
  {
   "cell_type": "code",
   "execution_count": 4,
   "id": "7c915c30-57cc-4afe-9746-7218fa343730",
   "metadata": {},
   "outputs": [
    {
     "name": "stdout",
     "output_type": "stream",
     "text": [
      "* * * * \n",
      "* * * \n",
      "* * \n",
      "* \n"
     ]
    }
   ],
   "source": [
    "n = int(input(\"enter no of row:\"))\n",
    "for i in range (n,0,-1):\n",
    "    for j in range (1,i+1):\n",
    "        print(\"*\",end=\" \")\n",
    "    print()\n"
   ]
  },
  {
   "cell_type": "code",
   "execution_count": 6,
   "id": "5b0802f6",
   "metadata": {},
   "outputs": [
    {
     "name": "stdout",
     "output_type": "stream",
     "text": [
      "0 \n",
      "1 0 \n",
      "0 1 0 \n",
      "1 0 1 0 \n",
      "0 1 0 1 0 \n"
     ]
    }
   ],
   "source": [
    "n = int(input(\"Enter number of rows: \"))\n",
    "for i in range(1, n+1):\n",
    "    for j in range(1, i+1):\n",
    "        print((i + j) % 2, end=\" \")\n",
    "    print()"
   ]
  },
  {
   "cell_type": "markdown",
   "id": "b9d80739",
   "metadata": {},
   "source": [
    "n=3\n",
    "i =1 2 3       ***               \n",
    "\n",
    "j =1 2 3\n",
    "i=1\n",
    "j=1\n",
    "\n",
    "i=1\n",
    "j=2\n",
    "\n",
    "i=1\n",
    "j=3\n",
    "\n",
    "i=2\n",
    "j=1,2,3\n",
    "\n",
    "i=3\n",
    "j=1 2 3"
   ]
  },
  {
   "cell_type": "code",
   "execution_count": 1,
   "id": "e61dd59a-dd45-4c3d-8336-67a7bdace5c2",
   "metadata": {},
   "outputs": [
    {
     "name": "stdout",
     "output_type": "stream",
     "text": [
      "1 1 1 1 1 1 \n",
      "2 2 2 2 2 2 \n",
      "3 3 3 3 3 3 \n",
      "4 4 4 4 4 4 \n",
      "5 5 5 5 5 5 \n",
      "6 6 6 6 6 6 \n"
     ]
    }
   ],
   "source": [
    "n = int(input(\"enter no of row:\"))\n",
    "for i in range (1,n+1):\n",
    "    for j in range (1,n+1):\n",
    "        print(f\"{i}\",end=\" \")\n",
    "    print()"
   ]
  },
  {
   "cell_type": "code",
   "execution_count": 8,
   "id": "2d62f552-8b6d-46ec-b5b7-ac42f99fd0b9",
   "metadata": {},
   "outputs": [
    {
     "name": "stdout",
     "output_type": "stream",
     "text": [
      "enter no of row: 5\n"
     ]
    },
    {
     "name": "stdout",
     "output_type": "stream",
     "text": [
      "1 2 3 4 5 \n",
      "1 2 3 4 5 \n",
      "1 2 3 4 5 \n",
      "1 2 3 4 5 \n",
      "1 2 3 4 5 \n"
     ]
    }
   ],
   "source": [
    "n = int(input(\"enter no of row:\"))\n",
    "for i in range (1,n+1):\n",
    "    for j in range (1,n+1):\n",
    "        print(f\"{j}\",end=\" \")\n",
    "    print()"
   ]
  },
  {
   "cell_type": "code",
   "execution_count": 9,
   "id": "2c9c87f3-b183-4de4-b8b5-6e0402accc25",
   "metadata": {},
   "outputs": [
    {
     "name": "stdout",
     "output_type": "stream",
     "text": [
      "enter no of row: 6\n"
     ]
    },
    {
     "name": "stdout",
     "output_type": "stream",
     "text": [
      "6 5 4 3 2 1 \n",
      "6 5 4 3 2 1 \n",
      "6 5 4 3 2 1 \n",
      "6 5 4 3 2 1 \n",
      "6 5 4 3 2 1 \n",
      "6 5 4 3 2 1 \n"
     ]
    }
   ],
   "source": [
    "n = int(input(\"enter no of row:\"))\n",
    "for i in range (1,n+1):\n",
    "    for j in range (1,n+1):\n",
    "        print(f\"{n-j+1}\",end=\" \")\n",
    "    print()"
   ]
  },
  {
   "cell_type": "code",
   "execution_count": 10,
   "id": "441324ae-c809-49c2-b943-d2c365e7c2b6",
   "metadata": {},
   "outputs": [
    {
     "name": "stdout",
     "output_type": "stream",
     "text": [
      "enter no of row: 4\n"
     ]
    },
    {
     "name": "stdout",
     "output_type": "stream",
     "text": [
      "A B C D \n",
      "A B C D \n",
      "A B C D \n",
      "A B C D \n"
     ]
    }
   ],
   "source": [
    "n = int(input(\"enter no of row:\"))\n",
    "for i in range (1,n+1):\n",
    "    for j in range (1,n+1):\n",
    "        print(chr(64+j),end=\" \")\n",
    "    print()"
   ]
  },
  {
   "cell_type": "code",
   "execution_count": 11,
   "id": "0bcd8908-7e4f-426c-9513-ead0f4aeaad5",
   "metadata": {},
   "outputs": [
    {
     "name": "stdout",
     "output_type": "stream",
     "text": [
      "enter no of row: 4\n"
     ]
    },
    {
     "name": "stdout",
     "output_type": "stream",
     "text": [
      "A B C D \n",
      "B C D E \n",
      "C D E F \n",
      "D E F G \n"
     ]
    }
   ],
   "source": [
    "n = int(input(\"enter no of row:\"))\n",
    "curr=64\n",
    "for i in range (1,n+1):\n",
    "    for j in range (1,n+1):\n",
    "        print(chr(curr+j),end=\" \")\n",
    "    print()\n",
    "    curr=curr+1"
   ]
  },
  {
   "cell_type": "code",
   "execution_count": 14,
   "id": "90246381-84d4-42f8-8fc1-338399deba25",
   "metadata": {},
   "outputs": [
    {
     "name": "stdout",
     "output_type": "stream",
     "text": [
      "enter no of row: 5\n"
     ]
    },
    {
     "name": "stdout",
     "output_type": "stream",
     "text": [
      "* * * * * \n",
      "* * * * \n",
      "* * * \n",
      "* * \n",
      "* \n"
     ]
    }
   ],
   "source": [
    "n = int(input(\"enter no of row:\"))\n",
    "for i in range (1,n+1):\n",
    "    for j in range (1,n-i+2):\n",
    "        print(\"*\",end=\" \")\n",
    "    print()"
   ]
  },
  {
   "cell_type": "code",
   "execution_count": 15,
   "id": "2dacaf86-bfd4-457c-8426-436bab9dfaee",
   "metadata": {
    "scrolled": true
   },
   "outputs": [
    {
     "name": "stdout",
     "output_type": "stream",
     "text": [
      "enter no of row: 5\n"
     ]
    },
    {
     "name": "stdout",
     "output_type": "stream",
     "text": [
      "* \n",
      "* * \n",
      "* * * \n",
      "* * * * \n",
      "* * * * * \n"
     ]
    }
   ],
   "source": [
    "n = int(input(\"enter no of row:\"))\n",
    "for i in range (1,n+1):\n",
    "    for j in range (1,i+1):\n",
    "        print(\"*\",end=\" \")\n",
    "    print()"
   ]
  },
  {
   "cell_type": "code",
   "execution_count": 17,
   "id": "c45e2145-b13a-4303-bcfc-b4d98d9c3319",
   "metadata": {},
   "outputs": [
    {
     "name": "stdout",
     "output_type": "stream",
     "text": [
      "enter no of row: 4\n"
     ]
    },
    {
     "name": "stdout",
     "output_type": "stream",
     "text": [
      "      * \n",
      "    * * \n",
      "  * * * \n",
      "* * * * \n"
     ]
    }
   ],
   "source": [
    "n = int(input(\"enter no of row:\"))\n",
    "for i in range (1,n+1):\n",
    "    for j in range (1,n+1):\n",
    "        if(j<=n-i):\n",
    "            print(\" \",end=\" \")\n",
    "        else:\n",
    "            print(\"*\",end=\" \")\n",
    "        \n",
    "        \n",
    "    print()"
   ]
  },
  {
   "cell_type": "code",
   "execution_count": 1,
   "id": "84d73b22-3e69-43f9-be1d-4fc50b50d579",
   "metadata": {},
   "outputs": [
    {
     "name": "stdout",
     "output_type": "stream",
     "text": [
      "1 \n",
      "      1 2 \n",
      "    1 2 3 \n",
      "  1 2 3 4 \n",
      "1 2 3 4 5 \n"
     ]
    }
   ],
   "source": [
    "n = int(input(\"enter no of row:\"))\n",
    "q=0\n",
    "for i in range (1,n+1):\n",
    "    p=1\n",
    "    q=i-1\n",
    "    for j in range (1,n+1):\n",
    "        if(j<=n-i):\n",
    "            if i!=1:\n",
    "                print(\" \",end=\" \")  \n",
    "        else:\n",
    "            print(p,end=\" \")\n",
    "            p=p+1\n",
    "   \n",
    "        \n",
    "      \n",
    "    print()"
   ]
  },
  {
   "cell_type": "code",
   "execution_count": 2,
   "id": "990c83e8",
   "metadata": {},
   "outputs": [
    {
     "name": "stdout",
     "output_type": "stream",
     "text": [
      "1 \n",
      "    1 2 \n",
      "  1 2 3 \n",
      "1 2 3 4 \n"
     ]
    }
   ],
   "source": [
    "for i in range (1,5):\n",
    "    for j in range(1,4-i+1):\n",
    "        if i!=1:\n",
    "            print(\" \", end=\" \")\n",
    "    for k in range(1,i+1):\n",
    "        print(k,end=\" \")\n",
    "    print()"
   ]
  },
  {
   "cell_type": "code",
   "execution_count": 3,
   "id": "2cfd4164",
   "metadata": {},
   "outputs": [
    {
     "name": "stdout",
     "output_type": "stream",
     "text": [
      "        1 \n",
      "      2 3 2 \n",
      "    3 4 5 4 3 \n",
      "  4 5 6 7 6 5 4 \n",
      "5 6 7 8 9 8 7 6 5 \n"
     ]
    }
   ],
   "source": [
    "row=int(input())\n",
    "\n",
    "for i in range (1,row+1):\n",
    "    p=i\n",
    "    for j in range (1,row+1-i):\n",
    "        print(\" \",end=\" \")\n",
    "    for k in range (1,i+1):\n",
    "        print(p,end=\" \")\n",
    "        p=p+1\n",
    "    q=p-2\n",
    "    for l in range (1,i):\n",
    "        print(q,end=\" \")\n",
    "        q=q-1\n",
    "    print()\n",
    "\n",
    "\n",
    "    \n",
    "\n",
    "  "
   ]
  }
 ],
 "metadata": {
  "kernelspec": {
   "display_name": "base",
   "language": "python",
   "name": "python3"
  },
  "language_info": {
   "codemirror_mode": {
    "name": "ipython",
    "version": 3
   },
   "file_extension": ".py",
   "mimetype": "text/x-python",
   "name": "python",
   "nbconvert_exporter": "python",
   "pygments_lexer": "ipython3",
   "version": "3.12.8"
  }
 },
 "nbformat": 4,
 "nbformat_minor": 5
}
