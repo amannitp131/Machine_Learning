{
 "cells": [
  {
   "cell_type": "markdown",
   "id": "00f335e8",
   "metadata": {},
   "source": [
    "# List\n"
   ]
  },
  {
   "cell_type": "markdown",
   "id": "db9eb853",
   "metadata": {},
   "source": [
    "A **list** in Python is an ordered, mutable collection of items. Lists can store elements of different data types, such as integers, strings, or even other lists.\n",
    "\n",
    "**Key features:**\n",
    "- Defined using square brackets: `fruits = [\"apple\", \"banana\", \"cherry\"]`\n",
    "- Elements are accessed by index: `fruits[0]` gives `\"apple\"`\n",
    "- Lists are mutable: you can add, remove, or change elements\n",
    "- Common methods: `.append()`, `.insert()`, `.remove()`, `.pop()`, `.sort()`\n",
    "\n"
   ]
  },
  {
   "cell_type": "code",
   "execution_count": 18,
   "id": "a7a464bd",
   "metadata": {},
   "outputs": [
    {
     "name": "stdout",
     "output_type": "stream",
     "text": [
      "apple\n",
      "cherry\n",
      "['apple', 'banana']\n",
      "['apple', 'grape', 'banana', 'cherry', 'orange']\n"
     ]
    }
   ],
   "source": [
    "# Creating a list\n",
    "fruits = [\"apple\", \"banana\", \"cherry\"]\n",
    "\n",
    "# Accessing elements\n",
    "print(fruits[0])       # apple\n",
    "print(fruits[-1])      # cherry\n",
    "\n",
    "# Slicing\n",
    "print(fruits[0:2])     # ['apple', 'banana']\n",
    "\n",
    "# Adding elements\n",
    "fruits.append(\"orange\")\n",
    "fruits.insert(1, \"grape\")  # Insert at index 1\n",
    "print(fruits)\n"
   ]
  },
  {
   "cell_type": "code",
   "execution_count": 19,
   "id": "c1fcc23d",
   "metadata": {},
   "outputs": [
    {
     "name": "stdout",
     "output_type": "stream",
     "text": [
      "['mango', 'grape', 'cherry']\n"
     ]
    }
   ],
   "source": [
    "# Remove by value\n",
    "fruits.remove(\"banana\")\n",
    "\n",
    "# Remove last\n",
    "fruits.pop()\n",
    "\n",
    "# Modify\n",
    "fruits[0] = \"mango\"\n",
    "\n",
    "print(fruits)\n"
   ]
  },
  {
   "cell_type": "code",
   "execution_count": 20,
   "id": "c03be54e",
   "metadata": {},
   "outputs": [
    {
     "name": "stdout",
     "output_type": "stream",
     "text": [
      "mango\n",
      "grape\n",
      "cherry\n",
      "True\n"
     ]
    }
   ],
   "source": [
    "# iterating \n",
    "for fruit in fruits:\n",
    "    print(fruit)\n",
    "\n",
    "# Check if an item exists\n",
    "print(\"mango\" in fruits)  # True\n"
   ]
  },
  {
   "cell_type": "code",
   "execution_count": 21,
   "id": "580cf329",
   "metadata": {},
   "outputs": [],
   "source": [
    "# List Comprehensions\n",
    "numbers = [1, 2, 3, 4, 5]\n",
    "squares = [x*x for x in numbers] \n"
   ]
  },
  {
   "cell_type": "markdown",
   "id": "3b84994e",
   "metadata": {},
   "source": [
    "# Dictionary"
   ]
  },
  {
   "cell_type": "markdown",
   "id": "1e4ebe34",
   "metadata": {},
   "source": [
    "A **dictionary** in Python is an unordered, mutable collection of key-value pairs. Dictionaries are used to store data values like a map, where each key is unique.\n",
    "\n",
    "**Key features:**\n",
    "- Defined using curly braces: `person = {\"name\": \"Sakshi\", \"age\": 21}`\n",
    "- Keys must be immutable types (e.g., strings, numbers, tuples)\n",
    "- Values can be any data type\n",
    "- Access values by key: `person[\"name\"]` gives `\"Sakshi\"`\n",
    "- Dictionaries are mutable: you can add, remove, or change key-value pairs\n",
    "- Common methods: `.get()`, `.keys()`, `.values()`, `.items()`, `.update()`"
   ]
  },
  {
   "cell_type": "code",
   "execution_count": 22,
   "id": "02dd3f4c",
   "metadata": {},
   "outputs": [
    {
     "name": "stdout",
     "output_type": "stream",
     "text": [
      "Sakshi\n"
     ]
    }
   ],
   "source": [
    "person = {\n",
    "    \"name\": \"Sakshi\",\n",
    "    \"age\": 20,\n",
    "    \"is_student\": False\n",
    "}\n",
    "\n",
    "print(person[\"name\"])      \n"
   ]
  },
  {
   "cell_type": "code",
   "execution_count": 23,
   "id": "eda1568e",
   "metadata": {},
   "outputs": [
    {
     "name": "stdout",
     "output_type": "stream",
     "text": [
      "name: Sakshi\n",
      "age: 21\n",
      "city: Dhanbad\n",
      "True\n"
     ]
    }
   ],
   "source": [
    "# Add a new key-value pair\n",
    "person[\"city\"] = \"Dhanbad\"\n",
    "\n",
    "# Modify an existing key\n",
    "person[\"age\"] = 21\n",
    "\n",
    "# Remove a key-value pair\n",
    "del person[\"is_student\"]\n",
    "\n",
    "# Iterate through keys and values\n",
    "for key, value in person.items():\n",
    "    print(f\"{key}: {value}\")\n",
    "\n",
    "\n",
    "# Check if a key exists\n",
    "print(\"name\" in person)  \n"
   ]
  },
  {
   "cell_type": "markdown",
   "id": "2f1f6202",
   "metadata": {},
   "source": [
    "# Tuple"
   ]
  },
  {
   "cell_type": "markdown",
   "id": "0b26623c",
   "metadata": {},
   "source": [
    "A **tuple** in Python is an ordered, immutable collection of items. Tuples can store elements of different data types, similar to lists, but once created, their contents cannot be changed.\n",
    "\n",
    "**Key features:**\n",
    "- Defined using parentheses: `my_tuple = (\"apple\", \"banana\", \"cherry\")`\n",
    "- Elements are accessed by index: `my_tuple[0]` gives `\"apple\"`\n",
    "- Tuples are immutable: you cannot add, remove, or modify elements after creation\n",
    "- Can be used as keys in dictionaries if all elements are immutable\n",
    "- Tuple unpacking allows assigning values to multiple variables at once: `a, b, c = my_tuple`\n",
    "- For a single-element tuple, include a comma: `single_element = (\"apple\",)`"
   ]
  },
  {
   "cell_type": "markdown",
   "id": "45b13944",
   "metadata": {},
   "source": [
    "Tuples are used instead of lists when:\n",
    "\n",
    "- **Immutability is needed:** Tuples cannot be changed after creation, making them safer for fixed data.\n",
    "- **Faster performance:** Tuples are generally faster than lists for iteration and access.\n"
   ]
  },
  {
   "cell_type": "code",
   "execution_count": 24,
   "id": "c27fa263",
   "metadata": {},
   "outputs": [
    {
     "name": "stdout",
     "output_type": "stream",
     "text": [
      "('apple', 'banana', 'cherry')\n",
      "apple\n",
      "cherry\n",
      "('apple', 'banana')\n",
      "3\n",
      "apple\n",
      "banana\n",
      "cherry\n",
      "apple banana cherry\n"
     ]
    }
   ],
   "source": [
    "# Creating a tuple\n",
    "my_tuple = (\"apple\", \"banana\", \"cherry\")\n",
    "print(my_tuple)\n",
    "\n",
    "# Accessing elements\n",
    "print(my_tuple[0])      # apple\n",
    "print(my_tuple[-1])     # cherry\n",
    "\n",
    "# Slicing\n",
    "print(my_tuple[0:2])    # ('apple', 'banana')\n",
    "\n",
    "# Tuples are immutable, so you cannot change their elements\n",
    "# my_tuple[0] = \"mango\"  # This will raise a TypeError\n",
    "\n",
    "# Length of a tuple\n",
    "print(len(my_tuple))    # 3\n",
    "\n",
    "# Iterating through a tuple\n",
    "for item in my_tuple:\n",
    "    print(item)\n",
    "\n",
    "\n",
    "# Tuple unpacking\n",
    "a, b, c = my_tuple\n",
    "print(a, b, c)\n",
    "\n"
   ]
  },
  {
   "cell_type": "code",
   "execution_count": 25,
   "id": "d62c6b82",
   "metadata": {},
   "outputs": [
    {
     "name": "stdout",
     "output_type": "stream",
     "text": [
      "<class 'tuple'>\n",
      "{(23.5, 87.3): 'Dhanbad'}\n"
     ]
    }
   ],
   "source": [
    "# Tuple with one element (note the comma)\n",
    "single_element = (\"apple\",)\n",
    "print(type(single_element))  # <class 'tuple'>\n",
    "\n",
    "\n",
    "# Using tuple as a key in a dictionary (because it's immutable)\n",
    "location = (23.5, 87.3)\n",
    "places = {location: \"Dhanbad\"}\n",
    "print(places)"
   ]
  }
 ],
 "metadata": {
  "kernelspec": {
   "display_name": "base",
   "language": "python",
   "name": "python3"
  },
  "language_info": {
   "codemirror_mode": {
    "name": "ipython",
    "version": 3
   },
   "file_extension": ".py",
   "mimetype": "text/x-python",
   "name": "python",
   "nbconvert_exporter": "python",
   "pygments_lexer": "ipython3",
   "version": "3.12.8"
  }
 },
 "nbformat": 4,
 "nbformat_minor": 5
}
